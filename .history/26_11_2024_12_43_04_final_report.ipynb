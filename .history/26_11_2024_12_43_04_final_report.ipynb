{
 "cells": [
  {
   "cell_type": "code",
   "execution_count": 2,
   "id": "56b0736a-5e9e-4949-b5aa-8cc599d26cea",
   "metadata": {},
   "outputs": [],
   "source": [
    "import altair as alt\n",
    "import numpy as np\n",
    "import pandas as pd"
   ]
  },
  {
   "cell_type": "markdown",
   "id": "f238d568-a18b-4fb4-b766-b9c81480f7e7",
   "metadata": {},
   "source": [
    "# Final Report"
   ]
  },
  {
   "cell_type": "markdown",
   "id": "0ab1ecf4-01e1-482e-bc37-79c1004ef820",
   "metadata": {},
   "source": [
    "Create an electronic report in English with a maximum of 2000 words (excluding citations) using Jupyter. The report should include the posed question, conducted analysis, and derived conclusion. Only one team member needs to submit this report. It is not required to include all tasks completed by every group member in their individual assignments; tailor the final report to the collective group's work. Make sure to reach a consensus among all team members on the final content of the report. If needed, consult your TA and Instructor for further guidance.\n",
    "\n",
    "You must submit 2 files:\n",
    "\n",
    "- an .html file (File -> Download As -> HTML)\n",
    "- an .ipynb file. This file must be fully reproducible. It must run completely from top to bottom without any additional files."
   ]
  },
  {
   "cell_type": "markdown",
   "id": "3c01dd2b-9bd8-470b-9fd7-6eac58e3ea63",
   "metadata": {},
   "source": [
    "## How Many Hours Would a Player Contribute Given Their “Age”?"
   ]
  },
  {
   "cell_type": "markdown",
   "id": "e2daa609-43a0-40b4-8bbc-6cc6a38d2931",
   "metadata": {},
   "source": [
    "### Introduction"
   ]
  },
  {
   "cell_type": "markdown",
   "id": "e6c708fd-cb10-49ac-8a0e-bff9f017eb07",
   "metadata": {},
   "source": [
    "(0verwr"
   ]
  },
  {
   "cell_type": "markdown",
   "id": "bba7dc6d-1677-4eb8-918c-c8235bdf8e4c",
   "metadata": {},
   "source": [
    "### Methods and Results"
   ]
  },
  {
   "cell_type": "code",
   "execution_count": 3,
   "id": "c15785a5-3c40-4dbb-bc82-ecd124064464",
   "metadata": {},
   "outputs": [],
   "source": [
    "players_df = pd.read_csv('data/players.csv')\n",
    "sessions_df = pd.read_csv('data/sessions.csv')\n",
    "\n",
    "players_df = players_df[['hashedEmail', 'age', 'played_hours', 'experience']].dropna().drop_duplicates()\n",
    "sessions_df = sessions_df[['hashedEmail', 'start_time', 'end_time']].dropna().drop_duplicates()"
   ]
  },
  {
   "cell_type": "code",
   "execution_count": null,
   "id": "4beec99e-4f79-40ed-b95e-9336cc511a67",
   "metadata": {},
   "outputs": [],
   "source": [
    "players_training, players_testing = train_test_split(\n",
    "   players_data, test_size = 0.25, random_state=123\n",
    ")"
   ]
  },
  {
   "cell_type": "code",
   "execution_count": null,
   "id": "006e2a45-69d0-456e-8a03-e9d09a96e543",
   "metadata": {},
   "outputs": [],
   "source": [
    "X_train = players_training[[\"age\"]]\n",
    "y_train = players_training[\"played_hours\"]\n",
    "\n",
    "X_test = players_testing[[\"age\"]]\n",
    "y_test = players_testing[\"played_hours\"]"
   ]
  },
  {
   "cell_type": "code",
   "execution_count": null,
   "id": "e6e36058-a8af-46b9-948a-6455208e17e7",
   "metadata": {},
   "outputs": [],
   "source": [
    "lr_model = LinearRegression()\n",
    "\n",
    "players_fit = lr_model.fit(X_train, y_train)\n",
    "\n",
    "players_predictions_train = players_training.assign(predictions = lr_model.predict(X_train))\n",
    "lr_model_rmse = mean_squared_error(y_train, players_predictions[\"predictions\"])**0.5\n",
    "\n",
    "players_predictions_test = players_testing.assign(predictions = lr_model.predict(X_test))\n",
    "lr_model_rmspe = mean_squared_error(y_test, players_predictions_test[\"predictions\"])**0.5"
   ]
  },
  {
   "cell_type": "code",
   "execution_count": 14,
   "id": "d52428fb-dd2d-4657-b960-50ce12995f8c",
   "metadata": {},
   "outputs": [
    {
     "data": {
      "text/plain": [
       "np.float64(27.03371224544966)"
      ]
     },
     "execution_count": 14,
     "metadata": {},
     "output_type": "execute_result"
    }
   ],
   "source": [
    "lm_rmse"
   ]
  },
  {
   "cell_type": "code",
   "execution_count": 15,
   "id": "efc9df54-22d0-45f3-b52e-3b6333d19401",
   "metadata": {},
   "outputs": [
    {
     "data": {
      "text/plain": [
       "np.float64(31.615420498264182)"
      ]
     },
     "execution_count": 15,
     "metadata": {},
     "output_type": "execute_result"
    }
   ],
   "source": [
    "lm_rmspe"
   ]
  }
 ],
 "metadata": {
  "kernelspec": {
   "display_name": "Python 3 (ipykernel)",
   "language": "python",
   "name": "python3"
  },
  "language_info": {
   "codemirror_mode": {
    "name": "ipython",
    "version": 3
   },
   "file_extension": ".py",
   "mimetype": "text/x-python",
   "name": "python",
   "nbconvert_exporter": "python",
   "pygments_lexer": "ipython3",
   "version": "3.11.9"
  }
 },
 "nbformat": 4,
 "nbformat_minor": 5
}
