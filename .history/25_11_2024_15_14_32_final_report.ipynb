{
 "cells": [
  {
   "cell_type": "code",
   "execution_count": 2,
   "id": "56b0736a-5e9e-4949-b5aa-8cc599d26cea",
   "metadata": {},
   "outputs": [],
   "source": [
    "import altair as alt\n",
    "import numpy as np\n",
    "import pandas as pd"
   ]
  },
  {
   "cell_type": "markdown",
   "id": "f238d568-a18b-4fb4-b766-b9c81480f7e7",
   "metadata": {},
   "source": [
    "# Final Report"
   ]
  },
  {
   "cell_type": "markdown",
   "id": "0ab1ecf4-01e1-482e-bc37-79c1004ef820",
   "metadata": {},
   "source": [
    "Create an electronic report in English with a maximum of 2000 words (excluding citations) using Jupyter. The report should include the posed question, conducted analysis, and derived conclusion. Only one team member needs to submit this report. It is not required to include all tasks completed by every group member in their individual assignments; tailor the final report to the collective group's work. Make sure to reach a consensus among all team members on the final content of the report. If needed, consult your TA and Instructor for further guidance.\n",
    "\n",
    "You must submit 2 files:\n",
    "\n",
    "- an .html file (File -> Download As -> HTML)\n",
    "- an .ipynb file. This file must be fully reproducible. It must run completely from top to bottom without any additional files."
   ]
  },
  {
   "cell_type": "markdown",
   "id": "3c01dd2b-9bd8-470b-9fd7-6eac58e3ea63",
   "metadata": {},
   "source": [
    "## How Many Hours Would a Player Contribute Given Their “Age”?"
   ]
  },
  {
   "cell_type": "markdown",
   "id": "e2daa609-43a0-40b4-8bbc-6cc6a38d2931",
   "metadata": {},
   "source": [
    "### Introduction"
   ]
  },
  {
   "cell_type": "markdown",
   "id": "e6c708fd-cb10-49ac-8a0e-bff9f017eb07",
   "metadata": {},
   "source": [
    "(0verwr"
   ]
  },
  {
   "cell_type": "markdown",
   "id": "bba7dc6d-1677-4eb8-918c-c8235bdf8e4c",
   "metadata": {},
   "source": [
    "### Methods and Results"
   ]
  },
  {
   "cell_type": "code",
   "execution_count": 3,
   "id": "c15785a5-3c40-4dbb-bc82-ecd124064464",
   "metadata": {},
   "outputs": [],
   "source": [
    "players_df = pd.read_csv('data/players.csv')\n",
    "sessions_df = pd.read_csv('data/sessions.csv')\n",
    "\n",
    "players_df = players_df[['hashedEmail', 'age', 'played_hours', 'experience']].dropna().drop_duplicates()\n",
    "sessions_df = sessions_df[['hashedEmail', 'start_time', 'end_time']].dropna().drop_duplicates()"
   ]
  }
 ],
 "metadata": {
  "kernelspec": {
   "display_name": "Python 3 (ipykernel)",
   "language": "python",
   "name": "python3"
  },
  "language_info": {
   "codemirror_mode": {
    "name": "ipython",
    "version": 3
   },
   "file_extension": ".py",
   "mimetype": "text/x-python",
   "name": "python",
   "nbconvert_exporter": "python",
   "pygments_lexer": "ipython3",
   "version": "3.11.9"
  }
 },
 "nbformat": 4,
 "nbformat_minor": 5
}
