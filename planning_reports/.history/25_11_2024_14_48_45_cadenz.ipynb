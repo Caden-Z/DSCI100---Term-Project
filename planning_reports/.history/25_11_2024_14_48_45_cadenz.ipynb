{
 "cells": [
  {
   "cell_type": "code",
   "execution_count": 1,
   "id": "3f7d413b-057f-44d0-a48f-3b051ea4ffa3",
   "metadata": {},
   "outputs": [],
   "source": [
    "import pandas as pd\n",
    "import altair as alt"
   ]
  },
  {
   "cell_type": "markdown",
   "id": "a98cfc6f-a301-41cd-8575-3497cd0687c9",
   "metadata": {},
   "source": [
    "## Data Description\n",
    "\n",
    "Provide a full descriptive summary of the dataset, including information such as the number of observations, \n",
    "number of variables, name and type of variables, what the variables mean, any issues you see in the data,\n",
    "any other potential issues related to things you cannot directly see, how the data were collected, etc. \n",
    "Make sure to use bullet point lists or tables to summarize the variables in an easy-to-understand format.\n",
    "\n",
    "Note that the selected dataset will probably contain more variables than you need. In fact, exploring how the different variables in the dataset affect your model may be a crucial part of the project.\n",
    "You need to summarize the full data regardless of which variables you may choose to use later on."
   ]
  },
  {
   "cell_type": "markdown",
   "id": "4d7aa778-6049-4e2c-a71f-7e28e2937fba",
   "metadata": {},
   "source": [
    "The `players.csv` data has 196 observations, includes 9 variables but the `individualId` and `organizationName` are not used, leaving 7 variables:\n",
    "- `experience`, which is a text indicating the class of experience level of the give player.\n",
    "- `subscribe`, a TRUE or FALSE variable indicating whether or not the player is subscribed to the email notification system\n",
    "- `hashedEmail` a string storing the hash of the player's email\n",
    "- `played_hours` a floating point number indicating the amount of hours a given player has played\n",
    "- `name` the fake chosen name of the given player\n",
    "- `gender` a string representing the gender the player has chose to identify as\n",
    "- `age` the age of the player\n",
    "\n",
    "The `sessions.csv` data has 1535 observations, includes 5 variables:\n",
    "- `hashedEmail` a string storing the hash of the player's email\n",
    "- `start_time` the time that they started playing at in a string format\n",
    "- `end_time` the time that they stopped playing at in a string format\n",
    "- `original_start_time` and `original_end_time` a number used to represent the start and end time in a floating point number instead\n",
    "\n",
    "One potential issue of the data is that the age distribution is fairly limited with most participants being around the age of 17-25. Another issue could be that the play time is cumulative and not rate based. "
   ]
  },
  {
   "cell_type": "markdown",
   "id": "f349942a-15d2-4193-88b7-fc1e857eea6a",
   "metadata": {},
   "source": [
    "## Question\n",
    "\n",
    "Clearly state one question your group will try to answer using the selected dataset. Your question should involve one response variable of interest and one or more explanatory variables. Describe clearly how the data will help you address the question of interest. You may need to describe how you plan to wrangle your data to get it into a form where you can apply one of the predictive methods from this class."
   ]
  },
  {
   "cell_type": "markdown",
   "id": "6ab78ecd-3c7e-4dfb-831f-21c450ecc954",
   "metadata": {},
   "source": [
    "\"How many hours would a player contribute given their age?\"\n",
    "\n",
    "The data provided in `players.csv` contains the `age` and `played_hours` information needed to answer this predictive question, as we can analyze the relationship between these 2 variables and see how changing age affects play time. Very minimal wrangling is needed in this case since the data is already tidy and in a format that is easy to analyze."
   ]
  },
  {
   "cell_type": "markdown",
   "id": "6b4cd975-1f15-4c22-9801-ffb72a8d6a5d",
   "metadata": {},
   "source": [
    "## Exploratory Data Analysis and Visualization\n",
    "\n",
    "In this assignment, you will:\n",
    "\n",
    "- Demonstrate that the dataset can be loaded into R.\n",
    "- Do the minimum necessary wrangling to turn your data into a tidy format. Do not do any additional wrangling here; that will happen later during the group project phase.\n",
    "- Make a few exploratory visualizations of the data to help you understand it.\n",
    "  - Use our visualization best practices to make high-quality plots (make sure to include labels, titles, units of measurement, etc)\n",
    "  - Explain any insights you gain from these plots that are relevant to address your question\n",
    "Note: do not perform any predictive analysis here. We are asking for an exploration of the relevant variables to demonstrate that you understand them well before performing any additional modelling, and to identify potential problems you anticipate encountering."
   ]
  },
  {
   "cell_type": "code",
   "execution_count": 2,
   "id": "385f04f0-42c1-4466-81fc-8c12f8cd0aea",
   "metadata": {},
   "outputs": [
    {
     "ename": "FileNotFoundError",
     "evalue": "[Errno 2] No such file or directory: 'data/players.csv'",
     "output_type": "error",
     "traceback": [
      "\u001b[0;31m---------------------------------------------------------------------------\u001b[0m",
      "\u001b[0;31mFileNotFoundError\u001b[0m                         Traceback (most recent call last)",
      "Cell \u001b[0;32mIn[2], line 1\u001b[0m\n\u001b[0;32m----> 1\u001b[0m players \u001b[38;5;241m=\u001b[39m \u001b[43mpd\u001b[49m\u001b[38;5;241;43m.\u001b[39;49m\u001b[43mread_csv\u001b[49m\u001b[43m(\u001b[49m\u001b[38;5;124;43m\"\u001b[39;49m\u001b[38;5;124;43mdata/players.csv\u001b[39;49m\u001b[38;5;124;43m\"\u001b[39;49m\u001b[43m)\u001b[49m\n\u001b[1;32m      2\u001b[0m players \u001b[38;5;241m=\u001b[39m players[[\u001b[38;5;124m\"\u001b[39m\u001b[38;5;124mplayed_hours\u001b[39m\u001b[38;5;124m\"\u001b[39m, \u001b[38;5;124m\"\u001b[39m\u001b[38;5;124mage\u001b[39m\u001b[38;5;124m\"\u001b[39m]]\n\u001b[1;32m      3\u001b[0m players\n",
      "File \u001b[0;32m/opt/conda/lib/python3.11/site-packages/pandas/io/parsers/readers.py:1026\u001b[0m, in \u001b[0;36mread_csv\u001b[0;34m(filepath_or_buffer, sep, delimiter, header, names, index_col, usecols, dtype, engine, converters, true_values, false_values, skipinitialspace, skiprows, skipfooter, nrows, na_values, keep_default_na, na_filter, verbose, skip_blank_lines, parse_dates, infer_datetime_format, keep_date_col, date_parser, date_format, dayfirst, cache_dates, iterator, chunksize, compression, thousands, decimal, lineterminator, quotechar, quoting, doublequote, escapechar, comment, encoding, encoding_errors, dialect, on_bad_lines, delim_whitespace, low_memory, memory_map, float_precision, storage_options, dtype_backend)\u001b[0m\n\u001b[1;32m   1013\u001b[0m kwds_defaults \u001b[38;5;241m=\u001b[39m _refine_defaults_read(\n\u001b[1;32m   1014\u001b[0m     dialect,\n\u001b[1;32m   1015\u001b[0m     delimiter,\n\u001b[0;32m   (...)\u001b[0m\n\u001b[1;32m   1022\u001b[0m     dtype_backend\u001b[38;5;241m=\u001b[39mdtype_backend,\n\u001b[1;32m   1023\u001b[0m )\n\u001b[1;32m   1024\u001b[0m kwds\u001b[38;5;241m.\u001b[39mupdate(kwds_defaults)\n\u001b[0;32m-> 1026\u001b[0m \u001b[38;5;28;01mreturn\u001b[39;00m \u001b[43m_read\u001b[49m\u001b[43m(\u001b[49m\u001b[43mfilepath_or_buffer\u001b[49m\u001b[43m,\u001b[49m\u001b[43m \u001b[49m\u001b[43mkwds\u001b[49m\u001b[43m)\u001b[49m\n",
      "File \u001b[0;32m/opt/conda/lib/python3.11/site-packages/pandas/io/parsers/readers.py:620\u001b[0m, in \u001b[0;36m_read\u001b[0;34m(filepath_or_buffer, kwds)\u001b[0m\n\u001b[1;32m    617\u001b[0m _validate_names(kwds\u001b[38;5;241m.\u001b[39mget(\u001b[38;5;124m\"\u001b[39m\u001b[38;5;124mnames\u001b[39m\u001b[38;5;124m\"\u001b[39m, \u001b[38;5;28;01mNone\u001b[39;00m))\n\u001b[1;32m    619\u001b[0m \u001b[38;5;66;03m# Create the parser.\u001b[39;00m\n\u001b[0;32m--> 620\u001b[0m parser \u001b[38;5;241m=\u001b[39m \u001b[43mTextFileReader\u001b[49m\u001b[43m(\u001b[49m\u001b[43mfilepath_or_buffer\u001b[49m\u001b[43m,\u001b[49m\u001b[43m \u001b[49m\u001b[38;5;241;43m*\u001b[39;49m\u001b[38;5;241;43m*\u001b[39;49m\u001b[43mkwds\u001b[49m\u001b[43m)\u001b[49m\n\u001b[1;32m    622\u001b[0m \u001b[38;5;28;01mif\u001b[39;00m chunksize \u001b[38;5;129;01mor\u001b[39;00m iterator:\n\u001b[1;32m    623\u001b[0m     \u001b[38;5;28;01mreturn\u001b[39;00m parser\n",
      "File \u001b[0;32m/opt/conda/lib/python3.11/site-packages/pandas/io/parsers/readers.py:1620\u001b[0m, in \u001b[0;36mTextFileReader.__init__\u001b[0;34m(self, f, engine, **kwds)\u001b[0m\n\u001b[1;32m   1617\u001b[0m     \u001b[38;5;28mself\u001b[39m\u001b[38;5;241m.\u001b[39moptions[\u001b[38;5;124m\"\u001b[39m\u001b[38;5;124mhas_index_names\u001b[39m\u001b[38;5;124m\"\u001b[39m] \u001b[38;5;241m=\u001b[39m kwds[\u001b[38;5;124m\"\u001b[39m\u001b[38;5;124mhas_index_names\u001b[39m\u001b[38;5;124m\"\u001b[39m]\n\u001b[1;32m   1619\u001b[0m \u001b[38;5;28mself\u001b[39m\u001b[38;5;241m.\u001b[39mhandles: IOHandles \u001b[38;5;241m|\u001b[39m \u001b[38;5;28;01mNone\u001b[39;00m \u001b[38;5;241m=\u001b[39m \u001b[38;5;28;01mNone\u001b[39;00m\n\u001b[0;32m-> 1620\u001b[0m \u001b[38;5;28mself\u001b[39m\u001b[38;5;241m.\u001b[39m_engine \u001b[38;5;241m=\u001b[39m \u001b[38;5;28;43mself\u001b[39;49m\u001b[38;5;241;43m.\u001b[39;49m\u001b[43m_make_engine\u001b[49m\u001b[43m(\u001b[49m\u001b[43mf\u001b[49m\u001b[43m,\u001b[49m\u001b[43m \u001b[49m\u001b[38;5;28;43mself\u001b[39;49m\u001b[38;5;241;43m.\u001b[39;49m\u001b[43mengine\u001b[49m\u001b[43m)\u001b[49m\n",
      "File \u001b[0;32m/opt/conda/lib/python3.11/site-packages/pandas/io/parsers/readers.py:1880\u001b[0m, in \u001b[0;36mTextFileReader._make_engine\u001b[0;34m(self, f, engine)\u001b[0m\n\u001b[1;32m   1878\u001b[0m     \u001b[38;5;28;01mif\u001b[39;00m \u001b[38;5;124m\"\u001b[39m\u001b[38;5;124mb\u001b[39m\u001b[38;5;124m\"\u001b[39m \u001b[38;5;129;01mnot\u001b[39;00m \u001b[38;5;129;01min\u001b[39;00m mode:\n\u001b[1;32m   1879\u001b[0m         mode \u001b[38;5;241m+\u001b[39m\u001b[38;5;241m=\u001b[39m \u001b[38;5;124m\"\u001b[39m\u001b[38;5;124mb\u001b[39m\u001b[38;5;124m\"\u001b[39m\n\u001b[0;32m-> 1880\u001b[0m \u001b[38;5;28mself\u001b[39m\u001b[38;5;241m.\u001b[39mhandles \u001b[38;5;241m=\u001b[39m \u001b[43mget_handle\u001b[49m\u001b[43m(\u001b[49m\n\u001b[1;32m   1881\u001b[0m \u001b[43m    \u001b[49m\u001b[43mf\u001b[49m\u001b[43m,\u001b[49m\n\u001b[1;32m   1882\u001b[0m \u001b[43m    \u001b[49m\u001b[43mmode\u001b[49m\u001b[43m,\u001b[49m\n\u001b[1;32m   1883\u001b[0m \u001b[43m    \u001b[49m\u001b[43mencoding\u001b[49m\u001b[38;5;241;43m=\u001b[39;49m\u001b[38;5;28;43mself\u001b[39;49m\u001b[38;5;241;43m.\u001b[39;49m\u001b[43moptions\u001b[49m\u001b[38;5;241;43m.\u001b[39;49m\u001b[43mget\u001b[49m\u001b[43m(\u001b[49m\u001b[38;5;124;43m\"\u001b[39;49m\u001b[38;5;124;43mencoding\u001b[39;49m\u001b[38;5;124;43m\"\u001b[39;49m\u001b[43m,\u001b[49m\u001b[43m \u001b[49m\u001b[38;5;28;43;01mNone\u001b[39;49;00m\u001b[43m)\u001b[49m\u001b[43m,\u001b[49m\n\u001b[1;32m   1884\u001b[0m \u001b[43m    \u001b[49m\u001b[43mcompression\u001b[49m\u001b[38;5;241;43m=\u001b[39;49m\u001b[38;5;28;43mself\u001b[39;49m\u001b[38;5;241;43m.\u001b[39;49m\u001b[43moptions\u001b[49m\u001b[38;5;241;43m.\u001b[39;49m\u001b[43mget\u001b[49m\u001b[43m(\u001b[49m\u001b[38;5;124;43m\"\u001b[39;49m\u001b[38;5;124;43mcompression\u001b[39;49m\u001b[38;5;124;43m\"\u001b[39;49m\u001b[43m,\u001b[49m\u001b[43m \u001b[49m\u001b[38;5;28;43;01mNone\u001b[39;49;00m\u001b[43m)\u001b[49m\u001b[43m,\u001b[49m\n\u001b[1;32m   1885\u001b[0m \u001b[43m    \u001b[49m\u001b[43mmemory_map\u001b[49m\u001b[38;5;241;43m=\u001b[39;49m\u001b[38;5;28;43mself\u001b[39;49m\u001b[38;5;241;43m.\u001b[39;49m\u001b[43moptions\u001b[49m\u001b[38;5;241;43m.\u001b[39;49m\u001b[43mget\u001b[49m\u001b[43m(\u001b[49m\u001b[38;5;124;43m\"\u001b[39;49m\u001b[38;5;124;43mmemory_map\u001b[39;49m\u001b[38;5;124;43m\"\u001b[39;49m\u001b[43m,\u001b[49m\u001b[43m \u001b[49m\u001b[38;5;28;43;01mFalse\u001b[39;49;00m\u001b[43m)\u001b[49m\u001b[43m,\u001b[49m\n\u001b[1;32m   1886\u001b[0m \u001b[43m    \u001b[49m\u001b[43mis_text\u001b[49m\u001b[38;5;241;43m=\u001b[39;49m\u001b[43mis_text\u001b[49m\u001b[43m,\u001b[49m\n\u001b[1;32m   1887\u001b[0m \u001b[43m    \u001b[49m\u001b[43merrors\u001b[49m\u001b[38;5;241;43m=\u001b[39;49m\u001b[38;5;28;43mself\u001b[39;49m\u001b[38;5;241;43m.\u001b[39;49m\u001b[43moptions\u001b[49m\u001b[38;5;241;43m.\u001b[39;49m\u001b[43mget\u001b[49m\u001b[43m(\u001b[49m\u001b[38;5;124;43m\"\u001b[39;49m\u001b[38;5;124;43mencoding_errors\u001b[39;49m\u001b[38;5;124;43m\"\u001b[39;49m\u001b[43m,\u001b[49m\u001b[43m \u001b[49m\u001b[38;5;124;43m\"\u001b[39;49m\u001b[38;5;124;43mstrict\u001b[39;49m\u001b[38;5;124;43m\"\u001b[39;49m\u001b[43m)\u001b[49m\u001b[43m,\u001b[49m\n\u001b[1;32m   1888\u001b[0m \u001b[43m    \u001b[49m\u001b[43mstorage_options\u001b[49m\u001b[38;5;241;43m=\u001b[39;49m\u001b[38;5;28;43mself\u001b[39;49m\u001b[38;5;241;43m.\u001b[39;49m\u001b[43moptions\u001b[49m\u001b[38;5;241;43m.\u001b[39;49m\u001b[43mget\u001b[49m\u001b[43m(\u001b[49m\u001b[38;5;124;43m\"\u001b[39;49m\u001b[38;5;124;43mstorage_options\u001b[39;49m\u001b[38;5;124;43m\"\u001b[39;49m\u001b[43m,\u001b[49m\u001b[43m \u001b[49m\u001b[38;5;28;43;01mNone\u001b[39;49;00m\u001b[43m)\u001b[49m\u001b[43m,\u001b[49m\n\u001b[1;32m   1889\u001b[0m \u001b[43m\u001b[49m\u001b[43m)\u001b[49m\n\u001b[1;32m   1890\u001b[0m \u001b[38;5;28;01massert\u001b[39;00m \u001b[38;5;28mself\u001b[39m\u001b[38;5;241m.\u001b[39mhandles \u001b[38;5;129;01mis\u001b[39;00m \u001b[38;5;129;01mnot\u001b[39;00m \u001b[38;5;28;01mNone\u001b[39;00m\n\u001b[1;32m   1891\u001b[0m f \u001b[38;5;241m=\u001b[39m \u001b[38;5;28mself\u001b[39m\u001b[38;5;241m.\u001b[39mhandles\u001b[38;5;241m.\u001b[39mhandle\n",
      "File \u001b[0;32m/opt/conda/lib/python3.11/site-packages/pandas/io/common.py:873\u001b[0m, in \u001b[0;36mget_handle\u001b[0;34m(path_or_buf, mode, encoding, compression, memory_map, is_text, errors, storage_options)\u001b[0m\n\u001b[1;32m    868\u001b[0m \u001b[38;5;28;01melif\u001b[39;00m \u001b[38;5;28misinstance\u001b[39m(handle, \u001b[38;5;28mstr\u001b[39m):\n\u001b[1;32m    869\u001b[0m     \u001b[38;5;66;03m# Check whether the filename is to be opened in binary mode.\u001b[39;00m\n\u001b[1;32m    870\u001b[0m     \u001b[38;5;66;03m# Binary mode does not support 'encoding' and 'newline'.\u001b[39;00m\n\u001b[1;32m    871\u001b[0m     \u001b[38;5;28;01mif\u001b[39;00m ioargs\u001b[38;5;241m.\u001b[39mencoding \u001b[38;5;129;01mand\u001b[39;00m \u001b[38;5;124m\"\u001b[39m\u001b[38;5;124mb\u001b[39m\u001b[38;5;124m\"\u001b[39m \u001b[38;5;129;01mnot\u001b[39;00m \u001b[38;5;129;01min\u001b[39;00m ioargs\u001b[38;5;241m.\u001b[39mmode:\n\u001b[1;32m    872\u001b[0m         \u001b[38;5;66;03m# Encoding\u001b[39;00m\n\u001b[0;32m--> 873\u001b[0m         handle \u001b[38;5;241m=\u001b[39m \u001b[38;5;28;43mopen\u001b[39;49m\u001b[43m(\u001b[49m\n\u001b[1;32m    874\u001b[0m \u001b[43m            \u001b[49m\u001b[43mhandle\u001b[49m\u001b[43m,\u001b[49m\n\u001b[1;32m    875\u001b[0m \u001b[43m            \u001b[49m\u001b[43mioargs\u001b[49m\u001b[38;5;241;43m.\u001b[39;49m\u001b[43mmode\u001b[49m\u001b[43m,\u001b[49m\n\u001b[1;32m    876\u001b[0m \u001b[43m            \u001b[49m\u001b[43mencoding\u001b[49m\u001b[38;5;241;43m=\u001b[39;49m\u001b[43mioargs\u001b[49m\u001b[38;5;241;43m.\u001b[39;49m\u001b[43mencoding\u001b[49m\u001b[43m,\u001b[49m\n\u001b[1;32m    877\u001b[0m \u001b[43m            \u001b[49m\u001b[43merrors\u001b[49m\u001b[38;5;241;43m=\u001b[39;49m\u001b[43merrors\u001b[49m\u001b[43m,\u001b[49m\n\u001b[1;32m    878\u001b[0m \u001b[43m            \u001b[49m\u001b[43mnewline\u001b[49m\u001b[38;5;241;43m=\u001b[39;49m\u001b[38;5;124;43m\"\u001b[39;49m\u001b[38;5;124;43m\"\u001b[39;49m\u001b[43m,\u001b[49m\n\u001b[1;32m    879\u001b[0m \u001b[43m        \u001b[49m\u001b[43m)\u001b[49m\n\u001b[1;32m    880\u001b[0m     \u001b[38;5;28;01melse\u001b[39;00m:\n\u001b[1;32m    881\u001b[0m         \u001b[38;5;66;03m# Binary mode\u001b[39;00m\n\u001b[1;32m    882\u001b[0m         handle \u001b[38;5;241m=\u001b[39m \u001b[38;5;28mopen\u001b[39m(handle, ioargs\u001b[38;5;241m.\u001b[39mmode)\n",
      "\u001b[0;31mFileNotFoundError\u001b[0m: [Errno 2] No such file or directory: 'data/players.csv'"
     ]
    }
   ],
   "source": [
    "players = pd.read_csv(\"data/players.csv\")\n",
    "players = players[[\"played_hours\", \"age\"]]\n",
    "players"
   ]
  },
  {
   "cell_type": "code",
   "execution_count": null,
   "id": "0884c9c0-4ded-46a6-b3b6-fa850b178953",
   "metadata": {},
   "outputs": [],
   "source": [
    "alt.Chart(players).mark_point(opacity=0.5).encode(\n",
    "    x=alt.X(\"age\").title(\"Age\"),\n",
    "    y=alt.Y(\"played_hours\").title(\"Play Time (Hours)\")\n",
    ")"
   ]
  },
  {
   "cell_type": "code",
   "execution_count": 26,
   "id": "4bfcea57-68e3-4e5a-86a0-b2627613097b",
   "metadata": {},
   "outputs": [
    {
     "data": {
      "text/html": [
       "\n",
       "<style>\n",
       "  #altair-viz-cd23ca00026548ec8b8332998e16f77f.vega-embed {\n",
       "    width: 100%;\n",
       "    display: flex;\n",
       "  }\n",
       "\n",
       "  #altair-viz-cd23ca00026548ec8b8332998e16f77f.vega-embed details,\n",
       "  #altair-viz-cd23ca00026548ec8b8332998e16f77f.vega-embed details summary {\n",
       "    position: relative;\n",
       "  }\n",
       "</style>\n",
       "<div id=\"altair-viz-cd23ca00026548ec8b8332998e16f77f\"></div>\n",
       "<script type=\"text/javascript\">\n",
       "  var VEGA_DEBUG = (typeof VEGA_DEBUG == \"undefined\") ? {} : VEGA_DEBUG;\n",
       "  (function(spec, embedOpt){\n",
       "    let outputDiv = document.currentScript.previousElementSibling;\n",
       "    if (outputDiv.id !== \"altair-viz-cd23ca00026548ec8b8332998e16f77f\") {\n",
       "      outputDiv = document.getElementById(\"altair-viz-cd23ca00026548ec8b8332998e16f77f\");\n",
       "    }\n",
       "    const paths = {\n",
       "      \"vega\": \"https://cdn.jsdelivr.net/npm/vega@5?noext\",\n",
       "      \"vega-lib\": \"https://cdn.jsdelivr.net/npm/vega-lib?noext\",\n",
       "      \"vega-lite\": \"https://cdn.jsdelivr.net/npm/vega-lite@5.20.1?noext\",\n",
       "      \"vega-embed\": \"https://cdn.jsdelivr.net/npm/vega-embed@6?noext\",\n",
       "    };\n",
       "\n",
       "    function maybeLoadScript(lib, version) {\n",
       "      var key = `${lib.replace(\"-\", \"\")}_version`;\n",
       "      return (VEGA_DEBUG[key] == version) ?\n",
       "        Promise.resolve(paths[lib]) :\n",
       "        new Promise(function(resolve, reject) {\n",
       "          var s = document.createElement('script');\n",
       "          document.getElementsByTagName(\"head\")[0].appendChild(s);\n",
       "          s.async = true;\n",
       "          s.onload = () => {\n",
       "            VEGA_DEBUG[key] = version;\n",
       "            return resolve(paths[lib]);\n",
       "          };\n",
       "          s.onerror = () => reject(`Error loading script: ${paths[lib]}`);\n",
       "          s.src = paths[lib];\n",
       "        });\n",
       "    }\n",
       "\n",
       "    function showError(err) {\n",
       "      outputDiv.innerHTML = `<div class=\"error\" style=\"color:red;\">${err}</div>`;\n",
       "      throw err;\n",
       "    }\n",
       "\n",
       "    function displayChart(vegaEmbed) {\n",
       "      vegaEmbed(outputDiv, spec, embedOpt)\n",
       "        .catch(err => showError(`Javascript Error: ${err.message}<br>This usually means there's a typo in your chart specification. See the javascript console for the full traceback.`));\n",
       "    }\n",
       "\n",
       "    if(typeof define === \"function\" && define.amd) {\n",
       "      requirejs.config({paths});\n",
       "      require([\"vega-embed\"], displayChart, err => showError(`Error loading script: ${err.message}`));\n",
       "    } else {\n",
       "      maybeLoadScript(\"vega\", \"5\")\n",
       "        .then(() => maybeLoadScript(\"vega-lite\", \"5.20.1\"))\n",
       "        .then(() => maybeLoadScript(\"vega-embed\", \"6\"))\n",
       "        .catch(showError)\n",
       "        .then(() => displayChart(vegaEmbed));\n",
       "    }\n",
       "  })({\"config\": {\"view\": {\"continuousWidth\": 300, \"continuousHeight\": 300}}, \"data\": {\"name\": \"data-373a38902fb5bcffd5301a2acc658158\"}, \"mark\": {\"type\": \"point\", \"opacity\": 0.5}, \"encoding\": {\"x\": {\"field\": \"age\", \"title\": \"Age\", \"type\": \"quantitative\"}, \"y\": {\"field\": \"played_hours\", \"title\": \"Play Time (Hours)\", \"type\": \"quantitative\"}}, \"$schema\": \"https://vega.github.io/schema/vega-lite/v5.20.1.json\", \"datasets\": {\"data-373a38902fb5bcffd5301a2acc658158\": [{\"played_hours\": 3.8, \"age\": 17}, {\"played_hours\": 0.0, \"age\": 17}, {\"played_hours\": 0.7, \"age\": 21}, {\"played_hours\": 0.1, \"age\": 21}, {\"played_hours\": 0.0, \"age\": 17}, {\"played_hours\": 0.0, \"age\": 19}, {\"played_hours\": 0.0, \"age\": 21}, {\"played_hours\": 0.1, \"age\": 17}, {\"played_hours\": 0.0, \"age\": 22}, {\"played_hours\": 1.6, \"age\": 23}, {\"played_hours\": 0.0, \"age\": 17}, {\"played_hours\": 1.5, \"age\": 25}, {\"played_hours\": 0.2, \"age\": 22}, {\"played_hours\": 0.0, \"age\": 17}, {\"played_hours\": 0.0, \"age\": 22}, {\"played_hours\": 0.0, \"age\": 17}, {\"played_hours\": 0.5, \"age\": 17}, {\"played_hours\": 0.6, \"age\": 19}, {\"played_hours\": 0.3, \"age\": 8}, {\"played_hours\": 0.1, \"age\": 17}, {\"played_hours\": 1.0, \"age\": 17}, {\"played_hours\": 0.0, \"age\": 17}, {\"played_hours\": 0.7, \"age\": 21}, {\"played_hours\": 0.6, \"age\": 28}, {\"played_hours\": 0.0, \"age\": 17}, {\"played_hours\": 0.0, \"age\": 23}, {\"played_hours\": 1.8, \"age\": 23}, {\"played_hours\": 0.1, \"age\": 18}, {\"played_hours\": 0.1, \"age\": 23}, {\"played_hours\": 0.1, \"age\": 21}, {\"played_hours\": 0.0, \"age\": 17}, {\"played_hours\": 0.0, \"age\": 33}, {\"played_hours\": 0.6, \"age\": 26}, {\"played_hours\": 0.4, \"age\": 20}, {\"played_hours\": 1.4, \"age\": 25}, {\"played_hours\": 0.2, \"age\": 17}, {\"played_hours\": 0.0, \"age\": 17}, {\"played_hours\": 0.0, \"age\": 17}, {\"played_hours\": 5.6, \"age\": 17}, {\"played_hours\": 0.1, \"age\": 17}, {\"played_hours\": 0.3, \"age\": 24}, {\"played_hours\": 0.0, \"age\": 21}, {\"played_hours\": 2.2, \"age\": 24}, {\"played_hours\": 0.0, \"age\": 24}, {\"played_hours\": 0.1, \"age\": 17}, {\"played_hours\": 0.0, \"age\": 23}, {\"played_hours\": 0.4, \"age\": 22}, {\"played_hours\": 0.6, \"age\": 21}, {\"played_hours\": 0.9, \"age\": 18}, {\"played_hours\": 0.2, \"age\": 27}, {\"played_hours\": 0.0, \"age\": 42}, {\"played_hours\": 0.0, \"age\": 20}, {\"played_hours\": 2.9, \"age\": 11}, {\"played_hours\": 0.0, \"age\": 17}, {\"played_hours\": 3.6, \"age\": 10}, {\"played_hours\": 0.2, \"age\": 38}, {\"played_hours\": 0.0, \"age\": 17}, {\"played_hours\": 1.5, \"age\": 20}, {\"played_hours\": 1.0, \"age\": 17}, {\"played_hours\": 0.2, \"age\": 17}, {\"played_hours\": 0.1, \"age\": 23}, {\"played_hours\": 0.1, \"age\": 21}, {\"played_hours\": 0.1, \"age\": 22}, {\"played_hours\": 0.1, \"age\": 15}, {\"played_hours\": 0.0, \"age\": 21}, {\"played_hours\": 0.2, \"age\": 14}, {\"played_hours\": 0.0, \"age\": 17}, {\"played_hours\": 0.0, \"age\": 22}, {\"played_hours\": 0.5, \"age\": 21}, {\"played_hours\": 3.5, \"age\": 21}, {\"played_hours\": 0.0, \"age\": 17}, {\"played_hours\": 0.0, \"age\": 22}, {\"played_hours\": 0.0, \"age\": 26}, {\"played_hours\": 0.0, \"age\": 17}, {\"played_hours\": 1.0, \"age\": 17}, {\"played_hours\": 0.2, \"age\": 37}, {\"played_hours\": 0.0, \"age\": 28}, {\"played_hours\": 0.0, \"age\": 17}, {\"played_hours\": 0.0, \"age\": 21}, {\"played_hours\": 0.0, \"age\": 23}, {\"played_hours\": 0.1, \"age\": 17}, {\"played_hours\": 0.0, \"age\": 17}, {\"played_hours\": 0.0, \"age\": 23}, {\"played_hours\": 0.0, \"age\": 17}, {\"played_hours\": 1.2, \"age\": 17}, {\"played_hours\": 0.1, \"age\": 17}, {\"played_hours\": 0.8, \"age\": 22}, {\"played_hours\": 0.0, \"age\": 17}, {\"played_hours\": 0.1, \"age\": 19}, {\"played_hours\": 0.1, \"age\": 18}, {\"played_hours\": 0.0, \"age\": 17}, {\"played_hours\": 0.5, \"age\": 12}, {\"played_hours\": 0.0, \"age\": 20}, {\"played_hours\": 0.0, \"age\": 17}, {\"played_hours\": 0.0, \"age\": 24}, {\"played_hours\": 2.0, \"age\": 27}, {\"played_hours\": 0.0, \"age\": 26}, {\"played_hours\": 0.0, \"age\": 17}, {\"played_hours\": 0.0, \"age\": 23}, {\"played_hours\": 2.7, \"age\": 22}, {\"played_hours\": 0.0, \"age\": 20}, {\"played_hours\": 0.1, \"age\": 17}, {\"played_hours\": 0.0, \"age\": 22}, {\"played_hours\": 4.0, \"age\": 21}, {\"played_hours\": 0.4, \"age\": 18}, {\"played_hours\": 0.0, \"age\": 17}, {\"played_hours\": 1.0, \"age\": 17}, {\"played_hours\": 0.1, \"age\": 24}, {\"played_hours\": 0.0, \"age\": 20}, {\"played_hours\": 0.0, \"age\": 17}, {\"played_hours\": 0.0, \"age\": 46}, {\"played_hours\": 0.0, \"age\": 23}, {\"played_hours\": 0.1, \"age\": 15}, {\"played_hours\": 0.1, \"age\": 24}, {\"played_hours\": 0.1, \"age\": 32}, {\"played_hours\": 7.1, \"age\": 17}, {\"played_hours\": 0.0, \"age\": 17}, {\"played_hours\": 0.7, \"age\": 24}, {\"played_hours\": 0.0, \"age\": 21}, {\"played_hours\": 0.0, \"age\": 17}, {\"played_hours\": 0.0, \"age\": 17}, {\"played_hours\": 0.0, \"age\": 23}, {\"played_hours\": 0.1, \"age\": 17}, {\"played_hours\": 0.0, \"age\": 17}, {\"played_hours\": 1.1, \"age\": 20}, {\"played_hours\": 0.0, \"age\": 21}, {\"played_hours\": 0.0, \"age\": 20}, {\"played_hours\": 0.0, \"age\": 17}, {\"played_hours\": 0.0, \"age\": 17}, {\"played_hours\": 0.0, \"age\": 20}, {\"played_hours\": 0.0, \"age\": 20}, {\"played_hours\": 0.0, \"age\": 18}, {\"played_hours\": 1.0, \"age\": 17}, {\"played_hours\": 0.1, \"age\": 16}, {\"played_hours\": 0.1, \"age\": 19}, {\"played_hours\": 0.0, \"age\": 25}, {\"played_hours\": 0.1, \"age\": 45}, {\"played_hours\": 0.0, \"age\": 18}, {\"played_hours\": 0.0, \"age\": 16}, {\"played_hours\": 0.0, \"age\": 17}, {\"played_hours\": 0.0, \"age\": 17}, {\"played_hours\": 0.2, \"age\": 17}, {\"played_hours\": 0.1, \"age\": 17}, {\"played_hours\": 0.0, \"age\": 19}, {\"played_hours\": 1.2, \"age\": 17}, {\"played_hours\": 0.1, \"age\": 23}, {\"played_hours\": 0.1, \"age\": 99}, {\"played_hours\": 0.0, \"age\": 22}, {\"played_hours\": 0.0, \"age\": 24}, {\"played_hours\": 0.0, \"age\": 17}, {\"played_hours\": 0.6, \"age\": 19}, {\"played_hours\": 0.5, \"age\": 20}, {\"played_hours\": 0.0, \"age\": 22}, {\"played_hours\": 0.1, \"age\": 21}, {\"played_hours\": 1.0, \"age\": 26}, {\"played_hours\": 0.3, \"age\": 17}, {\"played_hours\": 0.1, \"age\": 17}, {\"played_hours\": 0.1, \"age\": 17}, {\"played_hours\": 0.4, \"age\": 21}, {\"played_hours\": 1.8, \"age\": 32}, {\"played_hours\": 0.0, \"age\": 20}, {\"played_hours\": 0.0, \"age\": 50}, {\"played_hours\": 0.0, \"age\": 17}, {\"played_hours\": 0.3, \"age\": 17}, {\"played_hours\": 0.0, \"age\": 17}, {\"played_hours\": 2.7, \"age\": 21}, {\"played_hours\": 0.4, \"age\": 17}, {\"played_hours\": 0.1, \"age\": 17}, {\"played_hours\": 2.1, \"age\": 24}, {\"played_hours\": 0.8, \"age\": 22}, {\"played_hours\": 0.2, \"age\": 17}, {\"played_hours\": 1.7, \"age\": 17}, {\"played_hours\": 0.1, \"age\": 18}, {\"played_hours\": 0.1, \"age\": 44}, {\"played_hours\": 0.0, \"age\": 17}, {\"played_hours\": 0.0, \"age\": 17}, {\"played_hours\": 0.0, \"age\": 17}, {\"played_hours\": 0.0, \"age\": 20}, {\"played_hours\": 0.0, \"age\": 17}, {\"played_hours\": 0.3, \"age\": 22}, {\"played_hours\": 0.0, \"age\": 17}, {\"played_hours\": 2.3, \"age\": 17}, {\"played_hours\": 0.2, \"age\": 91}]}}, {\"mode\": \"vega-lite\"});\n",
       "</script>"
      ],
      "text/plain": [
       "alt.Chart(...)"
      ]
     },
     "execution_count": 26,
     "metadata": {},
     "output_type": "execute_result"
    }
   ],
   "source": [
    "alt.Chart(players[players[\"played_hours\"] < 10]).mark_point(opacity=0.5).encode(\n",
    "    x=alt.X(\"age\").title(\"Age\"),\n",
    "    y=alt.Y(\"played_hours\").title(\"Play Time (Hours)\")\n",
    ")"
   ]
  },
  {
   "cell_type": "markdown",
   "id": "1ada15c7-905f-41f1-ae7d-c9867e5efbab",
   "metadata": {},
   "source": [
    "There's a highly skewed distribution of play time, with most players having relatively low hours (<20 hours) but there are several notable outliers with very high play times (>150 hours). In addition, it seems like players with the highest engagement is in the 15-25 age range, and there is a dense cluster of data points that has a play time of below 1 hour."
   ]
  },
  {
   "cell_type": "markdown",
   "id": "0534b5ad-7200-4697-9358-ef84a9e88014",
   "metadata": {},
   "source": [
    "## Methods and Plan\n",
    "\n",
    "Propose one method to address your question of interest using the selected dataset and explain why it was chosen. Do not perform any modelling or present results at this stage. We are looking for high-level planning regarding model choice and justifying that choice.\n",
    "\n",
    "In your explanation, respond to the following questions:\n",
    "\n",
    "- Why is this method appropriate?\n",
    "- Which assumptions are required, if any, to apply the method selected?\n",
    "- What are the potential limitations or weaknesses of the method selected?\n",
    "- How are you going to compare and select the model?\n",
    "- How are you going to process the data to apply the model? For example: Are you splitting the data? How? How many splits? What proportions will you use for the splits? At what stage will you split? Will there be a validation set? Will you use cross validation?"
   ]
  },
  {
   "cell_type": "markdown",
   "id": "5d00e800-e9c0-4d84-87c0-c1030b4b1acc",
   "metadata": {},
   "source": [
    "Both Linear regression and KNN regression will likely be used to answer our question, and the results of the 2 models will be compared, since both models are common choices when trying to answer a regression problem. \n",
    "\n",
    "To use the linear regression model, we are assuming there is a somewhat linear relationship between the models which does not seem to be the case through the graph, and given the extreme outliers in this data set, the linear model may not perform very well. The existance of the outliers may also impact the performance of the KNN model. \n",
    "\n",
    "The RMSPE will be used to compare and select the better of the 2 models. The data will be split 70% for the training data and 30% testing data, since the data set is not that big (~200 observations). The split will be done at the very start before the training of either models. For the KNN model, cross validation will be used to select the K value."
   ]
  }
 ],
 "metadata": {
  "kernelspec": {
   "display_name": "Python 3 (ipykernel)",
   "language": "python",
   "name": "python3"
  },
  "language_info": {
   "codemirror_mode": {
    "name": "ipython",
    "version": 3
   },
   "file_extension": ".py",
   "mimetype": "text/x-python",
   "name": "python",
   "nbconvert_exporter": "python",
   "pygments_lexer": "ipython3",
   "version": "3.11.9"
  }
 },
 "nbformat": 4,
 "nbformat_minor": 5
}
