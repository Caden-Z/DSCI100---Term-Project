{
 "cells": [
  {
   "cell_type": "code",
   "execution_count": null,
   "id": "56b0736a-5e9e-4949-b5aa-8cc599d26cea",
   "metadata": {},
   "outputs": [],
   "source": [
    "import altair as alt\n",
    "import numpy as np\n",
    "import pandas as pd"
   ]
  },
  {
   "cell_type": "markdown",
   "id": "f238d568-a18b-4fb4-b766-b9c81480f7e7",
   "metadata": {},
   "source": [
    "# Final Report"
   ]
  },
  {
   "cell_type": "markdown",
   "id": "0ab1ecf4-01e1-482e-bc37-79c1004ef820",
   "metadata": {},
   "source": [
    "Create an electronic report in English with a maximum of 2000 words (excluding citations) using Jupyter. The report should include the posed question, conducted analysis, and derived conclusion. Only one team member needs to submit this report. It is not required to include all tasks completed by every group member in their individual assignments; tailor the final report to the collective group's work. Make sure to reach a consensus among all team members on the final content of the report. If needed, consult your TA and Instructor for further guidance.\n",
    "\n",
    "You must submit 2 files:\n",
    "\n",
    "- an .html file (File -> Download As -> HTML)\n",
    "- an .ipynb file. This file must be fully reproducible. It must run completely from top to bottom without any additional files."
   ]
  },
  {
   "cell_type": "markdown",
   "id": "3c01dd2b-9bd8-470b-9fd7-6eac58e3ea63",
   "metadata": {},
   "source": [
    "## How many hours would a player contribute given their “age”?"
   ]
  },
  {
   "cell_type": "code",
   "execution_count": null,
   "id": "c205cf7f-470a-4b7d-939d-5ce481d43b8c",
   "metadata": {},
   "outputs": [],
   "source": []
  }
 ],
 "metadata": {
  "kernelspec": {
   "display_name": "Python 3 (ipykernel)",
   "language": "python",
   "name": "python3"
  },
  "language_info": {
   "codemirror_mode": {
    "name": "ipython",
    "version": 3
   },
   "file_extension": ".py",
   "mimetype": "text/x-python",
   "name": "python",
   "nbconvert_exporter": "python",
   "pygments_lexer": "ipython3",
   "version": "3.11.9"
  }
 },
 "nbformat": 4,
 "nbformat_minor": 5
}
